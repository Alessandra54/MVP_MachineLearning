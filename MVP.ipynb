{
  "nbformat": 4,
  "nbformat_minor": 0,
  "metadata": {
    "colab": {
      "provenance": [],
      "authorship_tag": "ABX9TyNf/HVF7FiQQ619dkANINBr",
      "include_colab_link": true
    },
    "kernelspec": {
      "name": "python3",
      "display_name": "Python 3"
    },
    "language_info": {
      "name": "python"
    }
  },
  "cells": [
    {
      "cell_type": "markdown",
      "metadata": {
        "id": "view-in-github",
        "colab_type": "text"
      },
      "source": [
        "<a href=\"https://colab.research.google.com/github/Alessandra54/MVP_MachineLearning/blob/main/MVP.ipynb\" target=\"_parent\"><img src=\"https://colab.research.google.com/assets/colab-badge.svg\" alt=\"Open In Colab\"/></a>"
      ]
    },
    {
      "cell_type": "markdown",
      "source": [
        "# MVP – Engenharia de Software para Sistemas Inteligentes"
      ],
      "metadata": {
        "id": "CRg65om35svi"
      }
    },
    {
      "cell_type": "markdown",
      "source": [
        "## Contextualização do Projeto\n",
        "\n",
        "Este projeto foi desenvolvido como parte do MVP da disciplina de Engenharia de Software para Sistemas Inteligentes, com o objetivo de aplicar técnicas de machine learning supervisionado para resolução de um problema de classificação, seguindo as boas práticas estudadas ao longo do curso.\n",
        "\n",
        "## Descrição do Dataset\n",
        "\n",
        "O dataset selecionado para este trabalho é o **World University Rankings**, disponível publicamente no repositório Kaggle. Este conjunto de dados apresenta um panorama abrangente das principais universidades ao redor do mundo, incluindo informações como:\n",
        "\n",
        "- Nome e localização geográfica da universidade;\n",
        "- Número total de estudantes;\n",
        "- Número de estudantes internacionais;\n",
        "- Classificações globais e regionais;\n",
        "- Indicadores de desempenho acadêmico.\n",
        "\n",
        "A escolha desse dataset justifica-se por sua riqueza de atributos e aplicabilidade em cenários reais de análise educacional, possibilitando a construção de um modelo de classificação que categoriza as universidades com base em características institucionais. O uso desse tipo de dado também permite discutir desafios comuns em problemas reais de ciência de dados, como o pré-processamento, a transformação de variáveis e a escolha de algoritmos adequados para tarefas de classificação.\n",
        "\n",
        "-> Neste projeto iremos classificar universidades por \"nível de desempenho\" com base na overall_score"
      ],
      "metadata": {
        "id": "N1Y7BLpc6jrj"
      }
    },
    {
      "cell_type": "markdown",
      "source": [
        "# Importando a URL"
      ],
      "metadata": {
        "id": "unYYvB6m63Ws"
      }
    },
    {
      "cell_type": "code",
      "source": [
        "import pandas as pd\n",
        "import numpy as np\n",
        "from sklearn.model_selection import train_test_split, GridSearchCV, cross_val_score\n",
        "from sklearn.preprocessing import StandardScaler, MinMaxScaler\n",
        "from sklearn.pipeline import Pipeline\n",
        "from sklearn.neighbors import KNeighborsClassifier\n",
        "from sklearn.tree import DecisionTreeClassifier\n",
        "from sklearn.naive_bayes import GaussianNB\n",
        "from sklearn.svm import SVC\n",
        "from sklearn.metrics import classification_report, accuracy_score\n",
        "from sklearn.compose import ColumnTransformer\n",
        "from sklearn.model_selection import cross_val_score, GridSearchCV\n",
        "from sklearn.preprocessing import MinMaxScaler, StandardScaler\n",
        "import numpy as np\n"
      ],
      "metadata": {
        "id": "x9jR0GWqpUKh"
      },
      "execution_count": null,
      "outputs": []
    },
    {
      "cell_type": "code",
      "source": [
        "url = 'https://raw.githubusercontent.com/Alessandra54/MVP_MachineLearning/refs/heads/main/World%20University%20Rankings.csv'\n",
        "\n",
        "df = pd.read_csv(url)\n",
        "\n",
        "df.head()"
      ],
      "metadata": {
        "colab": {
          "base_uri": "https://localhost:8080/",
          "height": 348
        },
        "id": "9K2ZYsaKBM-w",
        "outputId": "7ef35e6a-7977-4e1f-82ac-b89bebfd9ab1"
      },
      "execution_count": null,
      "outputs": [
        {
          "output_type": "execute_result",
          "data": {
            "text/plain": [
              "                                    name  scores_teaching  scores_research  \\\n",
              "0                   University of Oxford             96.6            100.0   \n",
              "1                    Stanford University             99.0             97.8   \n",
              "2  Massachusetts Institute of Technology             98.6             96.2   \n",
              "3                     Harvard University             97.7             99.9   \n",
              "4                University of Cambridge             95.8            100.0   \n",
              "\n",
              "   scores_citations  scores_industry_income  scores_international_outlook  \\\n",
              "0              99.0                    98.7                          97.5   \n",
              "1              99.6                   100.0                          87.0   \n",
              "2              99.7                   100.0                          93.8   \n",
              "3              99.4                    84.2                          90.8   \n",
              "4              98.0                    87.9                          97.4   \n",
              "\n",
              "      record_type  member_level        location stats_number_students  \\\n",
              "0  master_account             0  United Kingdom                21,750   \n",
              "1         private             0   United States                14,517   \n",
              "2         private             0   United States                11,085   \n",
              "3         private             0   United States                20,050   \n",
              "4  master_account             0  United Kingdom                20,565   \n",
              "\n",
              "   stats_student_staff_ratio stats_pc_intl_students stats_female_male_ratio  \\\n",
              "0                       10.9                    42%                49:51:00   \n",
              "1                        6.4                    23%                47:53:00   \n",
              "2                        8.0                    33%                41:59:00   \n",
              "3                        9.0                    25%                51:49:00   \n",
              "4                       11.5                    38%                48:52:00   \n",
              "\n",
              "                                    subjects_offered  closed  unaccredited  \\\n",
              "0  Geography,Chemistry,Chemical Engineering,Biolo...   False         False   \n",
              "1  Computer Science,Communication & Media Studies...   False         False   \n",
              "2  Architecture,Economics & Econometrics,Archaeol...   False         False   \n",
              "3  Sociology,Architecture,Physics & Astronomy,Psy...   False         False   \n",
              "4  Politics & International Studies (incl Develop...   False         False   \n",
              "\n",
              "  overall_score  \n",
              "0          98.5  \n",
              "1            98  \n",
              "2          97.9  \n",
              "3          97.8  \n",
              "4          97.5  "
            ],
            "text/html": [
              "\n",
              "  <div id=\"df-8bff91b1-bbd5-4eae-b3ff-51b7753eaaf3\" class=\"colab-df-container\">\n",
              "    <div>\n",
              "<style scoped>\n",
              "    .dataframe tbody tr th:only-of-type {\n",
              "        vertical-align: middle;\n",
              "    }\n",
              "\n",
              "    .dataframe tbody tr th {\n",
              "        vertical-align: top;\n",
              "    }\n",
              "\n",
              "    .dataframe thead th {\n",
              "        text-align: right;\n",
              "    }\n",
              "</style>\n",
              "<table border=\"1\" class=\"dataframe\">\n",
              "  <thead>\n",
              "    <tr style=\"text-align: right;\">\n",
              "      <th></th>\n",
              "      <th>name</th>\n",
              "      <th>scores_teaching</th>\n",
              "      <th>scores_research</th>\n",
              "      <th>scores_citations</th>\n",
              "      <th>scores_industry_income</th>\n",
              "      <th>scores_international_outlook</th>\n",
              "      <th>record_type</th>\n",
              "      <th>member_level</th>\n",
              "      <th>location</th>\n",
              "      <th>stats_number_students</th>\n",
              "      <th>stats_student_staff_ratio</th>\n",
              "      <th>stats_pc_intl_students</th>\n",
              "      <th>stats_female_male_ratio</th>\n",
              "      <th>subjects_offered</th>\n",
              "      <th>closed</th>\n",
              "      <th>unaccredited</th>\n",
              "      <th>overall_score</th>\n",
              "    </tr>\n",
              "  </thead>\n",
              "  <tbody>\n",
              "    <tr>\n",
              "      <th>0</th>\n",
              "      <td>University of Oxford</td>\n",
              "      <td>96.6</td>\n",
              "      <td>100.0</td>\n",
              "      <td>99.0</td>\n",
              "      <td>98.7</td>\n",
              "      <td>97.5</td>\n",
              "      <td>master_account</td>\n",
              "      <td>0</td>\n",
              "      <td>United Kingdom</td>\n",
              "      <td>21,750</td>\n",
              "      <td>10.9</td>\n",
              "      <td>42%</td>\n",
              "      <td>49:51:00</td>\n",
              "      <td>Geography,Chemistry,Chemical Engineering,Biolo...</td>\n",
              "      <td>False</td>\n",
              "      <td>False</td>\n",
              "      <td>98.5</td>\n",
              "    </tr>\n",
              "    <tr>\n",
              "      <th>1</th>\n",
              "      <td>Stanford University</td>\n",
              "      <td>99.0</td>\n",
              "      <td>97.8</td>\n",
              "      <td>99.6</td>\n",
              "      <td>100.0</td>\n",
              "      <td>87.0</td>\n",
              "      <td>private</td>\n",
              "      <td>0</td>\n",
              "      <td>United States</td>\n",
              "      <td>14,517</td>\n",
              "      <td>6.4</td>\n",
              "      <td>23%</td>\n",
              "      <td>47:53:00</td>\n",
              "      <td>Computer Science,Communication &amp; Media Studies...</td>\n",
              "      <td>False</td>\n",
              "      <td>False</td>\n",
              "      <td>98</td>\n",
              "    </tr>\n",
              "    <tr>\n",
              "      <th>2</th>\n",
              "      <td>Massachusetts Institute of Technology</td>\n",
              "      <td>98.6</td>\n",
              "      <td>96.2</td>\n",
              "      <td>99.7</td>\n",
              "      <td>100.0</td>\n",
              "      <td>93.8</td>\n",
              "      <td>private</td>\n",
              "      <td>0</td>\n",
              "      <td>United States</td>\n",
              "      <td>11,085</td>\n",
              "      <td>8.0</td>\n",
              "      <td>33%</td>\n",
              "      <td>41:59:00</td>\n",
              "      <td>Architecture,Economics &amp; Econometrics,Archaeol...</td>\n",
              "      <td>False</td>\n",
              "      <td>False</td>\n",
              "      <td>97.9</td>\n",
              "    </tr>\n",
              "    <tr>\n",
              "      <th>3</th>\n",
              "      <td>Harvard University</td>\n",
              "      <td>97.7</td>\n",
              "      <td>99.9</td>\n",
              "      <td>99.4</td>\n",
              "      <td>84.2</td>\n",
              "      <td>90.8</td>\n",
              "      <td>private</td>\n",
              "      <td>0</td>\n",
              "      <td>United States</td>\n",
              "      <td>20,050</td>\n",
              "      <td>9.0</td>\n",
              "      <td>25%</td>\n",
              "      <td>51:49:00</td>\n",
              "      <td>Sociology,Architecture,Physics &amp; Astronomy,Psy...</td>\n",
              "      <td>False</td>\n",
              "      <td>False</td>\n",
              "      <td>97.8</td>\n",
              "    </tr>\n",
              "    <tr>\n",
              "      <th>4</th>\n",
              "      <td>University of Cambridge</td>\n",
              "      <td>95.8</td>\n",
              "      <td>100.0</td>\n",
              "      <td>98.0</td>\n",
              "      <td>87.9</td>\n",
              "      <td>97.4</td>\n",
              "      <td>master_account</td>\n",
              "      <td>0</td>\n",
              "      <td>United Kingdom</td>\n",
              "      <td>20,565</td>\n",
              "      <td>11.5</td>\n",
              "      <td>38%</td>\n",
              "      <td>48:52:00</td>\n",
              "      <td>Politics &amp; International Studies (incl Develop...</td>\n",
              "      <td>False</td>\n",
              "      <td>False</td>\n",
              "      <td>97.5</td>\n",
              "    </tr>\n",
              "  </tbody>\n",
              "</table>\n",
              "</div>\n",
              "    <div class=\"colab-df-buttons\">\n",
              "\n",
              "  <div class=\"colab-df-container\">\n",
              "    <button class=\"colab-df-convert\" onclick=\"convertToInteractive('df-8bff91b1-bbd5-4eae-b3ff-51b7753eaaf3')\"\n",
              "            title=\"Convert this dataframe to an interactive table.\"\n",
              "            style=\"display:none;\">\n",
              "\n",
              "  <svg xmlns=\"http://www.w3.org/2000/svg\" height=\"24px\" viewBox=\"0 -960 960 960\">\n",
              "    <path d=\"M120-120v-720h720v720H120Zm60-500h600v-160H180v160Zm220 220h160v-160H400v160Zm0 220h160v-160H400v160ZM180-400h160v-160H180v160Zm440 0h160v-160H620v160ZM180-180h160v-160H180v160Zm440 0h160v-160H620v160Z\"/>\n",
              "  </svg>\n",
              "    </button>\n",
              "\n",
              "  <style>\n",
              "    .colab-df-container {\n",
              "      display:flex;\n",
              "      gap: 12px;\n",
              "    }\n",
              "\n",
              "    .colab-df-convert {\n",
              "      background-color: #E8F0FE;\n",
              "      border: none;\n",
              "      border-radius: 50%;\n",
              "      cursor: pointer;\n",
              "      display: none;\n",
              "      fill: #1967D2;\n",
              "      height: 32px;\n",
              "      padding: 0 0 0 0;\n",
              "      width: 32px;\n",
              "    }\n",
              "\n",
              "    .colab-df-convert:hover {\n",
              "      background-color: #E2EBFA;\n",
              "      box-shadow: 0px 1px 2px rgba(60, 64, 67, 0.3), 0px 1px 3px 1px rgba(60, 64, 67, 0.15);\n",
              "      fill: #174EA6;\n",
              "    }\n",
              "\n",
              "    .colab-df-buttons div {\n",
              "      margin-bottom: 4px;\n",
              "    }\n",
              "\n",
              "    [theme=dark] .colab-df-convert {\n",
              "      background-color: #3B4455;\n",
              "      fill: #D2E3FC;\n",
              "    }\n",
              "\n",
              "    [theme=dark] .colab-df-convert:hover {\n",
              "      background-color: #434B5C;\n",
              "      box-shadow: 0px 1px 3px 1px rgba(0, 0, 0, 0.15);\n",
              "      filter: drop-shadow(0px 1px 2px rgba(0, 0, 0, 0.3));\n",
              "      fill: #FFFFFF;\n",
              "    }\n",
              "  </style>\n",
              "\n",
              "    <script>\n",
              "      const buttonEl =\n",
              "        document.querySelector('#df-8bff91b1-bbd5-4eae-b3ff-51b7753eaaf3 button.colab-df-convert');\n",
              "      buttonEl.style.display =\n",
              "        google.colab.kernel.accessAllowed ? 'block' : 'none';\n",
              "\n",
              "      async function convertToInteractive(key) {\n",
              "        const element = document.querySelector('#df-8bff91b1-bbd5-4eae-b3ff-51b7753eaaf3');\n",
              "        const dataTable =\n",
              "          await google.colab.kernel.invokeFunction('convertToInteractive',\n",
              "                                                    [key], {});\n",
              "        if (!dataTable) return;\n",
              "\n",
              "        const docLinkHtml = 'Like what you see? Visit the ' +\n",
              "          '<a target=\"_blank\" href=https://colab.research.google.com/notebooks/data_table.ipynb>data table notebook</a>'\n",
              "          + ' to learn more about interactive tables.';\n",
              "        element.innerHTML = '';\n",
              "        dataTable['output_type'] = 'display_data';\n",
              "        await google.colab.output.renderOutput(dataTable, element);\n",
              "        const docLink = document.createElement('div');\n",
              "        docLink.innerHTML = docLinkHtml;\n",
              "        element.appendChild(docLink);\n",
              "      }\n",
              "    </script>\n",
              "  </div>\n",
              "\n",
              "\n",
              "    <div id=\"df-959b38f7-9ed3-4a4d-80d8-312539444c7f\">\n",
              "      <button class=\"colab-df-quickchart\" onclick=\"quickchart('df-959b38f7-9ed3-4a4d-80d8-312539444c7f')\"\n",
              "                title=\"Suggest charts\"\n",
              "                style=\"display:none;\">\n",
              "\n",
              "<svg xmlns=\"http://www.w3.org/2000/svg\" height=\"24px\"viewBox=\"0 0 24 24\"\n",
              "     width=\"24px\">\n",
              "    <g>\n",
              "        <path d=\"M19 3H5c-1.1 0-2 .9-2 2v14c0 1.1.9 2 2 2h14c1.1 0 2-.9 2-2V5c0-1.1-.9-2-2-2zM9 17H7v-7h2v7zm4 0h-2V7h2v10zm4 0h-2v-4h2v4z\"/>\n",
              "    </g>\n",
              "</svg>\n",
              "      </button>\n",
              "\n",
              "<style>\n",
              "  .colab-df-quickchart {\n",
              "      --bg-color: #E8F0FE;\n",
              "      --fill-color: #1967D2;\n",
              "      --hover-bg-color: #E2EBFA;\n",
              "      --hover-fill-color: #174EA6;\n",
              "      --disabled-fill-color: #AAA;\n",
              "      --disabled-bg-color: #DDD;\n",
              "  }\n",
              "\n",
              "  [theme=dark] .colab-df-quickchart {\n",
              "      --bg-color: #3B4455;\n",
              "      --fill-color: #D2E3FC;\n",
              "      --hover-bg-color: #434B5C;\n",
              "      --hover-fill-color: #FFFFFF;\n",
              "      --disabled-bg-color: #3B4455;\n",
              "      --disabled-fill-color: #666;\n",
              "  }\n",
              "\n",
              "  .colab-df-quickchart {\n",
              "    background-color: var(--bg-color);\n",
              "    border: none;\n",
              "    border-radius: 50%;\n",
              "    cursor: pointer;\n",
              "    display: none;\n",
              "    fill: var(--fill-color);\n",
              "    height: 32px;\n",
              "    padding: 0;\n",
              "    width: 32px;\n",
              "  }\n",
              "\n",
              "  .colab-df-quickchart:hover {\n",
              "    background-color: var(--hover-bg-color);\n",
              "    box-shadow: 0 1px 2px rgba(60, 64, 67, 0.3), 0 1px 3px 1px rgba(60, 64, 67, 0.15);\n",
              "    fill: var(--button-hover-fill-color);\n",
              "  }\n",
              "\n",
              "  .colab-df-quickchart-complete:disabled,\n",
              "  .colab-df-quickchart-complete:disabled:hover {\n",
              "    background-color: var(--disabled-bg-color);\n",
              "    fill: var(--disabled-fill-color);\n",
              "    box-shadow: none;\n",
              "  }\n",
              "\n",
              "  .colab-df-spinner {\n",
              "    border: 2px solid var(--fill-color);\n",
              "    border-color: transparent;\n",
              "    border-bottom-color: var(--fill-color);\n",
              "    animation:\n",
              "      spin 1s steps(1) infinite;\n",
              "  }\n",
              "\n",
              "  @keyframes spin {\n",
              "    0% {\n",
              "      border-color: transparent;\n",
              "      border-bottom-color: var(--fill-color);\n",
              "      border-left-color: var(--fill-color);\n",
              "    }\n",
              "    20% {\n",
              "      border-color: transparent;\n",
              "      border-left-color: var(--fill-color);\n",
              "      border-top-color: var(--fill-color);\n",
              "    }\n",
              "    30% {\n",
              "      border-color: transparent;\n",
              "      border-left-color: var(--fill-color);\n",
              "      border-top-color: var(--fill-color);\n",
              "      border-right-color: var(--fill-color);\n",
              "    }\n",
              "    40% {\n",
              "      border-color: transparent;\n",
              "      border-right-color: var(--fill-color);\n",
              "      border-top-color: var(--fill-color);\n",
              "    }\n",
              "    60% {\n",
              "      border-color: transparent;\n",
              "      border-right-color: var(--fill-color);\n",
              "    }\n",
              "    80% {\n",
              "      border-color: transparent;\n",
              "      border-right-color: var(--fill-color);\n",
              "      border-bottom-color: var(--fill-color);\n",
              "    }\n",
              "    90% {\n",
              "      border-color: transparent;\n",
              "      border-bottom-color: var(--fill-color);\n",
              "    }\n",
              "  }\n",
              "</style>\n",
              "\n",
              "      <script>\n",
              "        async function quickchart(key) {\n",
              "          const quickchartButtonEl =\n",
              "            document.querySelector('#' + key + ' button');\n",
              "          quickchartButtonEl.disabled = true;  // To prevent multiple clicks.\n",
              "          quickchartButtonEl.classList.add('colab-df-spinner');\n",
              "          try {\n",
              "            const charts = await google.colab.kernel.invokeFunction(\n",
              "                'suggestCharts', [key], {});\n",
              "          } catch (error) {\n",
              "            console.error('Error during call to suggestCharts:', error);\n",
              "          }\n",
              "          quickchartButtonEl.classList.remove('colab-df-spinner');\n",
              "          quickchartButtonEl.classList.add('colab-df-quickchart-complete');\n",
              "        }\n",
              "        (() => {\n",
              "          let quickchartButtonEl =\n",
              "            document.querySelector('#df-959b38f7-9ed3-4a4d-80d8-312539444c7f button');\n",
              "          quickchartButtonEl.style.display =\n",
              "            google.colab.kernel.accessAllowed ? 'block' : 'none';\n",
              "        })();\n",
              "      </script>\n",
              "    </div>\n",
              "\n",
              "    </div>\n",
              "  </div>\n"
            ],
            "application/vnd.google.colaboratory.intrinsic+json": {
              "type": "dataframe",
              "variable_name": "df",
              "summary": "{\n  \"name\": \"df\",\n  \"rows\": 2673,\n  \"fields\": [\n    {\n      \"column\": \"name\",\n      \"properties\": {\n        \"dtype\": \"string\",\n        \"num_unique_values\": 2673,\n        \"samples\": [\n          \"University of Portsmouth\",\n          \"University of Antioquia\",\n          \"Botswana International University of Science and Technology (BIUST)\"\n        ],\n        \"semantic_type\": \"\",\n        \"description\": \"\"\n      }\n    },\n    {\n      \"column\": \"scores_teaching\",\n      \"properties\": {\n        \"dtype\": \"number\",\n        \"std\": 13.9672005914814,\n        \"min\": 9.4,\n        \"max\": 99.0,\n        \"num_unique_values\": 473,\n        \"samples\": [\n          63.7,\n          47.5,\n          63.4\n        ],\n        \"semantic_type\": \"\",\n        \"description\": \"\"\n      }\n    },\n    {\n      \"column\": \"scores_research\",\n      \"properties\": {\n        \"dtype\": \"number\",\n        \"std\": 16.697923284658476,\n        \"min\": 4.6,\n        \"max\": 100.0,\n        \"num_unique_values\": 506,\n        \"samples\": [\n          38.2,\n          34.3,\n          14.8\n        ],\n        \"semantic_type\": \"\",\n        \"description\": \"\"\n      }\n    },\n    {\n      \"column\": \"scores_citations\",\n      \"properties\": {\n        \"dtype\": \"number\",\n        \"std\": 25.07134243252735,\n        \"min\": 3.4,\n        \"max\": 99.7,\n        \"num_unique_values\": 809,\n        \"samples\": [\n          10.6,\n          52.8,\n          64.8\n        ],\n        \"semantic_type\": \"\",\n        \"description\": \"\"\n      }\n    },\n    {\n      \"column\": \"scores_industry_income\",\n      \"properties\": {\n        \"dtype\": \"number\",\n        \"std\": 26.150454125372423,\n        \"min\": 15.6,\n        \"max\": 100.0,\n        \"num_unique_values\": 688,\n        \"samples\": [\n          62.2,\n          37.6,\n          71.3\n        ],\n        \"semantic_type\": \"\",\n        \"description\": \"\"\n      }\n    },\n    {\n      \"column\": \"scores_international_outlook\",\n      \"properties\": {\n        \"dtype\": \"number\",\n        \"std\": 21.82824854407502,\n        \"min\": 16.1,\n        \"max\": 98.8,\n        \"num_unique_values\": 725,\n        \"samples\": [\n          85.9,\n          42.2,\n          35.0\n        ],\n        \"semantic_type\": \"\",\n        \"description\": \"\"\n      }\n    },\n    {\n      \"column\": \"record_type\",\n      \"properties\": {\n        \"dtype\": \"category\",\n        \"num_unique_values\": 3,\n        \"samples\": [\n          \"master_account\",\n          \"private\",\n          \"public\"\n        ],\n        \"semantic_type\": \"\",\n        \"description\": \"\"\n      }\n    },\n    {\n      \"column\": \"member_level\",\n      \"properties\": {\n        \"dtype\": \"number\",\n        \"std\": 2,\n        \"min\": 0,\n        \"max\": 11,\n        \"num_unique_values\": 4,\n        \"samples\": [\n          6,\n          1,\n          0\n        ],\n        \"semantic_type\": \"\",\n        \"description\": \"\"\n      }\n    },\n    {\n      \"column\": \"location\",\n      \"properties\": {\n        \"dtype\": \"category\",\n        \"num_unique_values\": 127,\n        \"samples\": [\n          \"Macao\",\n          \"Uzbekistan\",\n          \"Ecuador\"\n        ],\n        \"semantic_type\": \"\",\n        \"description\": \"\"\n      }\n    },\n    {\n      \"column\": \"stats_number_students\",\n      \"properties\": {\n        \"dtype\": \"string\",\n        \"num_unique_values\": 2574,\n        \"samples\": [\n          \"39,257\",\n          \"2,820\",\n          \"25,944\"\n        ],\n        \"semantic_type\": \"\",\n        \"description\": \"\"\n      }\n    },\n    {\n      \"column\": \"stats_student_staff_ratio\",\n      \"properties\": {\n        \"dtype\": \"number\",\n        \"std\": 13.450010141741899,\n        \"min\": 0.3,\n        \"max\": 333.3,\n        \"num_unique_values\": 448,\n        \"samples\": [\n          33.4,\n          63.5,\n          21.4\n        ],\n        \"semantic_type\": \"\",\n        \"description\": \"\"\n      }\n    },\n    {\n      \"column\": \"stats_pc_intl_students\",\n      \"properties\": {\n        \"dtype\": \"category\",\n        \"num_unique_values\": 84,\n        \"samples\": [\n          \"90%\",\n          \"42%\",\n          \"55%\"\n        ],\n        \"semantic_type\": \"\",\n        \"description\": \"\"\n      }\n    },\n    {\n      \"column\": \"stats_female_male_ratio\",\n      \"properties\": {\n        \"dtype\": \"category\",\n        \"num_unique_values\": 91,\n        \"samples\": [\n          \"27 : 73\",\n          \"70:30:00\",\n          \"0.274305556\"\n        ],\n        \"semantic_type\": \"\",\n        \"description\": \"\"\n      }\n    },\n    {\n      \"column\": \"subjects_offered\",\n      \"properties\": {\n        \"dtype\": \"string\",\n        \"num_unique_values\": 2567,\n        \"samples\": [\n          \"Civil Engineering,Languages, Literature & Linguistics,Mathematics & Statistics,Physics & Astronomy,General Engineering,Chemistry,Communication & Media Studies,Computer Science,Economics & Econometrics,Education,Mechanical & Aerospace Engineering,Biological Sciences,Architecture,Politics & International Studies (incl Development Studies),Geography,Art, Performing Arts & Design,Electrical & Electronic Engineering,Chemical Engineering,Geology, Environmental, Earth & Marine Sciences,History, Philosophy & Theology,Sociology,Business & Management\",\n          \"Accounting & Finance,Communication & Media Studies,Computer Science,Business & Management,Politics & International Studies (incl Development Studies),Law\",\n          \"Other Health,Medicine & Dentistry,Accounting & Finance,Architecture,Languages, Literature & Linguistics,Law,Computer Science,Business & Management,Education\"\n        ],\n        \"semantic_type\": \"\",\n        \"description\": \"\"\n      }\n    },\n    {\n      \"column\": \"closed\",\n      \"properties\": {\n        \"dtype\": \"boolean\",\n        \"num_unique_values\": 1,\n        \"samples\": [\n          false\n        ],\n        \"semantic_type\": \"\",\n        \"description\": \"\"\n      }\n    },\n    {\n      \"column\": \"unaccredited\",\n      \"properties\": {\n        \"dtype\": \"boolean\",\n        \"num_unique_values\": 2,\n        \"samples\": [\n          true\n        ],\n        \"semantic_type\": \"\",\n        \"description\": \"\"\n      }\n    },\n    {\n      \"column\": \"overall_score\",\n      \"properties\": {\n        \"dtype\": \"category\",\n        \"num_unique_values\": 159,\n        \"samples\": [\n          \"68.9\"\n        ],\n        \"semantic_type\": \"\",\n        \"description\": \"\"\n      }\n    }\n  ]\n}"
            }
          },
          "metadata": {},
          "execution_count": 130
        }
      ]
    },
    {
      "cell_type": "code",
      "source": [
        "url = 'https://raw.githubusercontent.com/Alessandra54/MVP_MachineLearning/refs/heads/main/World%20University%20Rankings.csv'\n",
        "\n",
        "df = pd.read_csv(url)\n",
        "\n",
        "df.head()\n",
        "\n",
        "df = df[df['overall_score'].notna()]  # remover nulos antes\n",
        "df['overall_score'] = pd.to_numeric(df['overall_score'], errors='coerce')\n",
        "df['desempenho'] = pd.qcut(df['overall_score'], q=3, labels=['Baixo', 'Médio', 'Alto'])\n",
        "print(df[['overall_score', 'desempenho']].head())"
      ],
      "metadata": {
        "colab": {
          "base_uri": "https://localhost:8080/"
        },
        "id": "iW6tf6ch6680",
        "outputId": "1ae82a02-4261-4861-afef-63e929342af2",
        "collapsed": true
      },
      "execution_count": null,
      "outputs": [
        {
          "output_type": "stream",
          "name": "stdout",
          "text": [
            "   overall_score desempenho\n",
            "0           98.5       Alto\n",
            "1           98.0       Alto\n",
            "2           97.9       Alto\n",
            "3           97.8       Alto\n",
            "4           97.5       Alto\n"
          ]
        }
      ]
    },
    {
      "cell_type": "markdown",
      "source": [
        "# **Treino e teste (Holdout)**\n"
      ],
      "metadata": {
        "id": "VQndt2aZqLo8"
      }
    },
    {
      "cell_type": "code",
      "source": [
        "from sklearn.model_selection import train_test_split\n",
        "\n",
        "X = df[['location', 'overall_score']]\n",
        "y = df['desempenho']\n",
        "\n",
        "X_train, X_test, y_train, y_test = train_test_split(X, y, test_size=0.2, random_state=42)\n"
      ],
      "metadata": {
        "id": "B756xP-9qT7v"
      },
      "execution_count": null,
      "outputs": []
    },
    {
      "cell_type": "markdown",
      "source": [
        "# **Normalização e Padronização**\n"
      ],
      "metadata": {
        "id": "BCPVKe6nsSFs"
      }
    },
    {
      "cell_type": "code",
      "source": [
        "from sklearn.preprocessing import OneHotEncoder, MinMaxScaler, StandardScaler\n",
        "from sklearn.compose import ColumnTransformer\n",
        "\n",
        "# Colunas\n",
        "cat_cols = ['location']\n",
        "num_cols = ['overall_score']\n",
        "\n",
        "# Normalização MinMax\n",
        "preprocess_minmax = ColumnTransformer([\n",
        "    ('onehot', OneHotEncoder(handle_unknown='ignore'), cat_cols),\n",
        "    ('minmax', MinMaxScaler(), num_cols)\n",
        "])\n",
        "\n",
        "# Padronização StandardScaler\n",
        "preprocess_standard = ColumnTransformer([\n",
        "    ('onehot', OneHotEncoder(handle_unknown='ignore'), cat_cols),\n",
        "    ('standard', StandardScaler(), num_cols)\n",
        "])"
      ],
      "metadata": {
        "id": "OqZVVl07r2dz"
      },
      "execution_count": null,
      "outputs": []
    },
    {
      "cell_type": "markdown",
      "source": [
        "# **Pipelines**"
      ],
      "metadata": {
        "id": "KTtqBCORsWew"
      }
    },
    {
      "cell_type": "code",
      "source": [
        "from sklearn.pipeline import Pipeline\n",
        "from sklearn.preprocessing import OneHotEncoder, MinMaxScaler\n",
        "from sklearn.impute import SimpleImputer\n",
        "from sklearn.compose import ColumnTransformer\n",
        "from sklearn.neighbors import KNeighborsClassifier\n",
        "\n",
        "idx_validos = y_train.notna()\n",
        "X_train = X_train.loc[idx_validos]\n",
        "y_train = y_train.loc[idx_validos]\n",
        "\n",
        "cat_cols = ['location']\n",
        "num_cols = ['overall_score']\n",
        "\n",
        "# Pipeline numérico: imputar mediana + normalizar\n",
        "num_pipeline = Pipeline([\n",
        "    ('imputer', SimpleImputer(strategy='median')),\n",
        "    ('scaler', MinMaxScaler())\n",
        "])\n",
        "\n",
        "# Pipeline categórico: one-hot\n",
        "cat_pipeline = Pipeline([\n",
        "    ('onehot', OneHotEncoder(handle_unknown='ignore'))\n",
        "])\n",
        "\n",
        "preprocessador = ColumnTransformer([\n",
        "    ('num', num_pipeline, num_cols),\n",
        "    ('cat', cat_pipeline, cat_cols)\n",
        "])\n",
        "\n",
        "pipeline_knn = Pipeline([\n",
        "    ('preprocess', preprocessador),\n",
        "    ('model', KNeighborsClassifier())\n",
        "])\n"
      ],
      "metadata": {
        "id": "J-ixHyPLr9Hr"
      },
      "execution_count": null,
      "outputs": []
    },
    {
      "cell_type": "code",
      "source": [
        "# 4. Criar transformer para converter sparse -> dense (para Naive Bayes)\n",
        "class DenseTransformer(TransformerMixin):\n",
        "    def fit(self, X, y=None):\n",
        "        return self\n",
        "    def transform(self, X, y=None):\n",
        "        return X.toarray()\n",
        "\n",
        "dense_transformer = DenseTransformer()"
      ],
      "metadata": {
        "id": "rtY83u4U3CRq"
      },
      "execution_count": null,
      "outputs": []
    },
    {
      "cell_type": "code",
      "source": [
        "# 5. Criar pipelines para cada modelo\n",
        "\n",
        "# KNN\n",
        "pipeline_knn = Pipeline([\n",
        "    ('preprocess', preprocessador),\n",
        "    ('model', KNeighborsClassifier())\n",
        "])\n",
        "\n",
        "# Árvore de Decisão\n",
        "pipeline_tree = Pipeline([\n",
        "    ('preprocess', preprocessador),\n",
        "    ('model', DecisionTreeClassifier(random_state=42))\n",
        "])\n",
        "\n",
        "# Naive Bayes (com conversão para dense)\n",
        "pipeline_nb = Pipeline([\n",
        "    ('preprocess', preprocessador),\n",
        "    ('to_dense', dense_transformer),\n",
        "    ('model', GaussianNB())\n",
        "])\n",
        "\n",
        "# SVM\n",
        "pipeline_svm = Pipeline([\n",
        "    ('preprocess', preprocessador),\n",
        "    ('model', SVC())\n",
        "])\n",
        "\n",
        "# 6. Avaliar todos os modelos com cross-validation\n",
        "modelos = {\n",
        "    'KNN': pipeline_knn,\n",
        "    'Árvore de Decisão': pipeline_tree,\n",
        "    'Naive Bayes': pipeline_nb,\n",
        "    'SVM': pipeline_svm\n",
        "}\n",
        "\n",
        "for nome, pipe in modelos.items():\n",
        "    scores = cross_val_score(pipe, X_train, y_train, cv=3)\n",
        "    print(f'{nome} - Acurácia média (CV=3): {scores.mean():.4f}')\n"
      ],
      "metadata": {
        "colab": {
          "base_uri": "https://localhost:8080/"
        },
        "id": "gfC1RdK22XMH",
        "outputId": "7d86bd0d-959d-4d55-df60-dca4392c32b6"
      },
      "execution_count": null,
      "outputs": [
        {
          "output_type": "stream",
          "name": "stdout",
          "text": [
            "KNN - Acurácia média (CV=3): 0.7805\n",
            "Árvore de Decisão - Acurácia média (CV=3): 0.9817\n",
            "Naive Bayes - Acurácia média (CV=3): 0.4211\n",
            "SVM - Acurácia média (CV=3): 0.5853\n"
          ]
        }
      ]
    },
    {
      "cell_type": "markdown",
      "source": [
        "# **Avaliação dos modelos**"
      ],
      "metadata": {
        "id": "4N9k3NrY4dyY"
      }
    },
    {
      "cell_type": "code",
      "source": [
        "from sklearn.metrics import accuracy_score, precision_score, recall_score, f1_score\n",
        "\n",
        "# Corrigir tipos\n",
        "y_train = y_train.astype(str)\n",
        "y_test = y_test.astype(str)\n",
        "\n",
        "# Avaliação\n",
        "resultados = {}\n",
        "\n",
        "for nome, modelo in modelos.items():\n",
        "    modelo.fit(X_train, y_train)\n",
        "    y_pred = modelo.predict(X_test)\n",
        "\n",
        "    # Calcular métricas\n",
        "    acc = accuracy_score(y_test, y_pred)\n",
        "    prec = precision_score(y_test, y_pred, average='weighted')\n",
        "    rec = recall_score(y_test, y_pred, average='weighted')\n",
        "    f1 = f1_score(y_test, y_pred, average='weighted')\n",
        "\n",
        "    resultados[nome] = {\n",
        "        'Accuracy': acc,\n",
        "        'Precision': prec,\n",
        "        'Recall': rec,\n",
        "        'F1-score': f1\n",
        "    }\n",
        "\n",
        "# Mostrar resultados\n",
        "df_resultados = pd.DataFrame(resultados).T\n",
        "print(df_resultados)\n",
        "\n"
      ],
      "metadata": {
        "colab": {
          "base_uri": "https://localhost:8080/"
        },
        "id": "Hn1hGlx63Zc8",
        "outputId": "38e89fc6-9a11-4c21-cc21-67a6d80a192a"
      },
      "execution_count": null,
      "outputs": [
        {
          "output_type": "stream",
          "name": "stdout",
          "text": [
            "                   Accuracy  Precision    Recall  F1-score\n",
            "KNN                0.065617   0.010984  0.065617  0.018312\n",
            "Árvore de Decisão  0.097113   0.059388  0.097113  0.060901\n",
            "Naive Bayes        0.023622   0.000844  0.023622  0.001629\n",
            "SVM                0.044619   0.012703  0.044619  0.017608\n"
          ]
        }
      ]
    },
    {
      "cell_type": "code",
      "source": [
        "melhor_modelo_nome = df_resultados['F1-score'].idxmax()\n",
        "print(f'Melhor modelo: {melhor_modelo_nome}')"
      ],
      "metadata": {
        "colab": {
          "base_uri": "https://localhost:8080/"
        },
        "id": "iiK8Z4tU30Pg",
        "outputId": "c3a2188c-6bab-463c-bd8a-e49d704d6ef1"
      },
      "execution_count": null,
      "outputs": [
        {
          "output_type": "stream",
          "name": "stdout",
          "text": [
            "Melhor modelo: Árvore de Decisão\n"
          ]
        }
      ]
    },
    {
      "cell_type": "markdown",
      "source": [
        "# **Exportar modelo**"
      ],
      "metadata": {
        "id": "JVbwC52b4rmS"
      }
    },
    {
      "cell_type": "code",
      "source": [
        "import joblib\n",
        "import sklearn\n",
        "print(sklearn.__version__)\n",
        "\n",
        "# Recupera o pipeline já treinado\n",
        "melhor_modelo = modelos[melhor_modelo_nome]\n",
        "melhor_modelo.fit(X_train, y_train)\n",
        "\n",
        "# Salvar\n",
        "joblib.dump(melhor_modelo, f'{melhor_modelo_nome}_pipeline1.pkl')\n",
        "print(f'Modelo salvo como {melhor_modelo_nome}_pipeline1.pkl')\n"
      ],
      "metadata": {
        "colab": {
          "base_uri": "https://localhost:8080/"
        },
        "id": "e9cTqy_835EK",
        "outputId": "e7c265ea-611b-4246-ee34-b40e02551ffa"
      },
      "execution_count": null,
      "outputs": [
        {
          "output_type": "stream",
          "name": "stdout",
          "text": [
            "1.6.1\n",
            "Modelo salvo como Árvore de Decisão_pipeline1.pkl\n"
          ]
        }
      ]
    }
  ]
}